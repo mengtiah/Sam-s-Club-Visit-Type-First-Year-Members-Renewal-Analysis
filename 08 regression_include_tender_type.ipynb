{
 "cells": [
  {
   "cell_type": "code",
   "execution_count": 1,
   "metadata": {},
   "outputs": [
    {
     "name": "stderr",
     "output_type": "stream",
     "text": [
      "/anaconda3/lib/python3.6/site-packages/sklearn/cross_validation.py:41: DeprecationWarning: This module was deprecated in version 0.18 in favor of the model_selection module into which all the refactored classes and functions are moved. Also note that the interface of the new CV iterators are different from that of this module. This module will be removed in 0.20.\n",
      "  \"This module will be removed in 0.20.\", DeprecationWarning)\n"
     ]
    }
   ],
   "source": [
    "import pandas as pd\n",
    "import matplotlib.pyplot as plt\n",
    "from sklearn.linear_model import LogisticRegression\n",
    "from sklearn.model_selection import cross_val_score\n",
    "from sklearn.preprocessing import minmax_scale\n",
    "from sklearn.feature_selection import RFECV\n",
    "from sklearn.cross_validation import train_test_split"
   ]
  },
  {
   "cell_type": "code",
   "execution_count": 2,
   "metadata": {},
   "outputs": [],
   "source": [
    "### in this regression, we use 1 and 0 to represent renew, and exclude cost \n",
    "### because cost and qty is the same as sales \n",
    "### we also include the days_dif, which represents the days between the lastday of buying and 2018-01-31\n",
    "### and include the amount a customer has paid in such tender type\n",
    "### include visit frequecy\n",
    "member = pd.read_csv('all_member01.csv')"
   ]
  },
  {
   "cell_type": "code",
   "execution_count": 3,
   "metadata": {},
   "outputs": [],
   "source": [
    "tender = pd.read_csv('member_join_tender.csv')"
   ]
  },
  {
   "cell_type": "code",
   "execution_count": 4,
   "metadata": {},
   "outputs": [],
   "source": [
    "td = tender.fillna(0)"
   ]
  },
  {
   "cell_type": "code",
   "execution_count": 5,
   "metadata": {},
   "outputs": [],
   "source": [
    "all = pd.merge(member, td, left_on = 'MEMBERSHIP_ID', right_on = 'MEMBERSHIP_ID', how = 'left')"
   ]
  },
  {
   "cell_type": "code",
   "execution_count": 6,
   "metadata": {
    "scrolled": true
   },
   "outputs": [
    {
     "data": {
      "text/plain": [
       "['Unnamed: 0_x',\n",
       " 'X',\n",
       " 'MEMBERSHIP_ID',\n",
       " 'MEMBERSHIP_TYPE_CODE',\n",
       " 'MILES_TO_CLUB',\n",
       " 'hhh_age_desc',\n",
       " 'marital_status_desc',\n",
       " 'income_lower',\n",
       " 'income_upper',\n",
       " 'hh_size_desc',\n",
       " 'nbr_children_desc',\n",
       " 'ethnic_desc',\n",
       " 'JOIN_DATE',\n",
       " 'RENEW_IND',\n",
       " 'PLUS_STATUS_BEFORE_REN',\n",
       " 'autorenew_ind',\n",
       " 'payroll_deduct_ind',\n",
       " 'sales',\n",
       " 'qty',\n",
       " 'cost',\n",
       " 'num',\n",
       " 'date_min',\n",
       " 'date_max',\n",
       " 'num_visit',\n",
       " 'num_category',\n",
       " 'num_sub_category',\n",
       " 'num_item',\n",
       " 'days_dif',\n",
       " 'freq',\n",
       " 'Unnamed: 0_y',\n",
       " 'sum.Cash (change)',\n",
       " 'sum.Debit Card',\n",
       " 'sum.Discover',\n",
       " 'sum.EBT Foodstamps',\n",
       " 'sum.Mastercard',\n",
       " 'sum.Shopping Card',\n",
       " 'sum.Visa',\n",
       " 'sum.American Express',\n",
       " 'sum.DOTCOM',\n",
       " 'sum.Sams Consumer Credit',\n",
       " 'sum.Wal-Mart Credit Card',\n",
       " 'sum.Associate Discount Card',\n",
       " 'sum.Electronic Check (ECA)',\n",
       " 'sum.Coupon',\n",
       " 'sum.Payroll Check',\n",
       " 'sum.Rx third party sales',\n",
       " 'sum.Sams Business Credit',\n",
       " 'sum.Service Income',\n",
       " 'sum.Unknown',\n",
       " 'sum.NA',\n",
       " 'sum.EBT Cash',\n",
       " 'sum.Check',\n",
       " 'sum.Sams Direct Credit',\n",
       " 'sum.Fleet',\n",
       " 'sum.Coin Voucher']"
      ]
     },
     "execution_count": 6,
     "metadata": {},
     "output_type": "execute_result"
    }
   ],
   "source": [
    "all.columns.values.tolist()"
   ]
  },
  {
   "cell_type": "code",
   "execution_count": 7,
   "metadata": {},
   "outputs": [],
   "source": [
    "columns=['sales','num_visit','num_item','num_category','num_sub_category','MEMBERSHIP_TYPE_CODE','MILES_TO_CLUB','hhh_age_desc','marital_status_desc','income_lower','income_upper','hh_size_desc','nbr_children_desc','ethnic_desc','PLUS_STATUS_BEFORE_REN','autorenew_ind','payroll_deduct_ind','days_dif','freq',\n",
    " 'sum.Cash (change)',\n",
    " 'sum.Debit Card',\n",
    " 'sum.Discover',\n",
    " 'sum.EBT Foodstamps',\n",
    " 'sum.Mastercard',\n",
    " 'sum.Shopping Card',\n",
    " 'sum.Visa',\n",
    " 'sum.American Express',\n",
    " 'sum.DOTCOM',\n",
    " 'sum.Sams Consumer Credit',\n",
    " 'sum.Wal-Mart Credit Card',\n",
    " 'sum.Associate Discount Card',\n",
    " 'sum.Electronic Check (ECA)',\n",
    " 'sum.Coupon',\n",
    " 'sum.Payroll Check',\n",
    " 'sum.Rx third party sales',\n",
    " 'sum.Sams Business Credit',\n",
    " 'sum.Service Income',\n",
    " 'sum.Unknown',\n",
    " 'sum.NA',\n",
    " 'sum.EBT Cash',\n",
    " 'sum.Check',\n",
    " 'sum.Sams Direct Credit',\n",
    " 'sum.Fleet',\n",
    " 'sum.Coin Voucher']"
   ]
  },
  {
   "cell_type": "code",
   "execution_count": 8,
   "metadata": {},
   "outputs": [
    {
     "name": "stderr",
     "output_type": "stream",
     "text": [
      "/anaconda3/lib/python3.6/site-packages/ipykernel_launcher.py:3: SettingWithCopyWarning: \n",
      "A value is trying to be set on a copy of a slice from a DataFrame.\n",
      "Try using .loc[row_indexer,col_indexer] = value instead\n",
      "\n",
      "See the caveats in the documentation: http://pandas.pydata.org/pandas-docs/stable/indexing.html#indexing-view-versus-copy\n",
      "  This is separate from the ipykernel package so we can avoid doing imports until\n"
     ]
    },
    {
     "data": {
      "text/plain": [
       "LogisticRegression(C=1.0, class_weight=None, dual=False, fit_intercept=True,\n",
       "          intercept_scaling=1, max_iter=100, multi_class='ovr', n_jobs=1,\n",
       "          penalty='l2', random_state=None, solver='liblinear', tol=0.0001,\n",
       "          verbose=0, warm_start=False)"
      ]
     },
     "execution_count": 8,
     "metadata": {},
     "output_type": "execute_result"
    }
   ],
   "source": [
    "X = all[columns]\n",
    "Y = all['RENEW_IND']\n",
    "X['days_dif']=X['days_dif'].fillna(396)\n",
    "X = X.fillna(X.mean())\n",
    "X = minmax_scale(X)\n",
    "X_train, X_test, y_train, y_test = train_test_split( X, Y, test_size = 0.5, random_state = 100)\n",
    "lr= LogisticRegression()\n",
    "lr.fit(X_train,y_train)\n"
   ]
  },
  {
   "cell_type": "code",
   "execution_count": 9,
   "metadata": {},
   "outputs": [
    {
     "data": {
      "text/plain": [
       "array([[ 1.17062238, -0.10458481, 15.93388354,  0.93898847, -1.61759316,\n",
       "         0.035856  ,  0.06223923,  0.82631273,  0.14541275, -0.02426226,\n",
       "         0.12532127,  0.16517347, -0.5534198 ,  0.03599795, -0.03019333,\n",
       "         5.19673682,  4.99887931, -2.65310094, -1.28256213,  0.41965008,\n",
       "         1.68081536,  0.37738835, -5.122429  ,  0.14460439,  1.16607402,\n",
       "         0.68794701,  0.27050808,  0.19691619,  0.41305089,  0.25600232,\n",
       "        -0.09897692, -0.09081736,  2.19208086,  1.08230607,  1.12961173,\n",
       "         0.02256358,  0.11732305,  0.22967719,  0.        , -0.0252735 ,\n",
       "        -0.0730246 , -0.09184592,  0.04836545, -0.06398833]])"
      ]
     },
     "execution_count": 9,
     "metadata": {},
     "output_type": "execute_result"
    }
   ],
   "source": [
    "coefficients = lr.coef_\n",
    "coefficients"
   ]
  },
  {
   "cell_type": "code",
   "execution_count": 10,
   "metadata": {},
   "outputs": [
    {
     "data": {
      "image/png": "[encoded data removed]",
      "text/plain": [
       "<Figure size 432x288 with 1 Axes>"
      ]
     },
     "metadata": {},
     "output_type": "display_data"
    }
   ],
   "source": [
    "feature_importance = pd.Series(coefficients[0],index = all[columns].columns)\n",
    "\n",
    "ordered_feature_importance = feature_importance.abs().sort_values()\n",
    "ordered_feature_importance.plot.barh()\n",
    "plt.show()"
   ]
  },
  {
   "cell_type": "code",
   "execution_count": 11,
   "metadata": {
    "scrolled": true
   },
   "outputs": [
    {
     "data": {
      "image/png": "[encoded data removed]",
      "text/plain": [
       "<Figure size 792x648 with 2 Axes>"
      ]
     },
     "metadata": {},
     "output_type": "display_data"
    }
   ],
   "source": [
    "import seaborn as sns\n",
    "import numpy as np\n",
    "def plot_heatmap(df):\n",
    "    corr = df.corr()\n",
    "    sns.set(style = 'white')\n",
    "    mask = np.zeros_like(corr, dtype=np.bool)\n",
    "    mask[np.triu_indices_from(mask)] = True\n",
    "    f, ax = plt.subplots(figsize=(11, 9))\n",
    "    cmap = sns.diverging_palette(220, 10, as_cmap=True)\n",
    "    sns.heatmap(corr, mask=mask, cmap=cmap, vmax=.3, center=0,\n",
    "            square=True, linewidths=.5, cbar_kws={\"shrink\": .5})\n",
    "    plt.show()\n",
    "plot_heatmap(pd.DataFrame(X_train))"
   ]
  },
  {
   "cell_type": "markdown",
   "metadata": {},
   "source": [
    "## In the second step we select the significant variables"
   ]
  },
  {
   "cell_type": "code",
   "execution_count": 12,
   "metadata": {},
   "outputs": [
    {
     "data": {
      "text/plain": [
       "RFECV(cv=10,\n",
       "   estimator=LogisticRegression(C=1.0, class_weight=None, dual=False, fit_intercept=True,\n",
       "          intercept_scaling=1, max_iter=100, multi_class='ovr', n_jobs=1,\n",
       "          penalty='l2', random_state=None, solver='liblinear', tol=0.0001,\n",
       "          verbose=0, warm_start=False),\n",
       "   n_jobs=1, scoring=None, step=1, verbose=0)"
      ]
     },
     "execution_count": 12,
     "metadata": {},
     "output_type": "execute_result"
    }
   ],
   "source": [
    "lr = LogisticRegression()\n",
    "selector = RFECV(lr, cv=10)\n",
    "selector.fit(X_train,y_train)"
   ]
  },
  {
   "cell_type": "code",
   "execution_count": 13,
   "metadata": {
    "scrolled": true
   },
   "outputs": [
    {
     "data": {
      "text/html": [
       "<div>\n",
       "<style scoped>\n",
       "    .dataframe tbody tr th:only-of-type {\n",
       "        vertical-align: middle;\n",
       "    }\n",
       "\n",
       "    .dataframe tbody tr th {\n",
       "        vertical-align: top;\n",
       "    }\n",
       "\n",
       "    .dataframe thead th {\n",
       "        text-align: right;\n",
       "    }\n",
       "</style>\n",
       "<table border=\"1\" class=\"dataframe\">\n",
       "  <thead>\n",
       "    <tr style=\"text-align: right;\">\n",
       "      <th></th>\n",
       "      <th>0</th>\n",
       "    </tr>\n",
       "  </thead>\n",
       "  <tbody>\n",
       "    <tr>\n",
       "      <th>True</th>\n",
       "      <td>sales</td>\n",
       "    </tr>\n",
       "    <tr>\n",
       "      <th>False</th>\n",
       "      <td>num_visit</td>\n",
       "    </tr>\n",
       "    <tr>\n",
       "      <th>True</th>\n",
       "      <td>num_item</td>\n",
       "    </tr>\n",
       "    <tr>\n",
       "      <th>False</th>\n",
       "      <td>num_category</td>\n",
       "    </tr>\n",
       "    <tr>\n",
       "      <th>False</th>\n",
       "      <td>num_sub_category</td>\n",
       "    </tr>\n",
       "    <tr>\n",
       "      <th>False</th>\n",
       "      <td>MEMBERSHIP_TYPE_CODE</td>\n",
       "    </tr>\n",
       "    <tr>\n",
       "      <th>False</th>\n",
       "      <td>MILES_TO_CLUB</td>\n",
       "    </tr>\n",
       "    <tr>\n",
       "      <th>False</th>\n",
       "      <td>hhh_age_desc</td>\n",
       "    </tr>\n",
       "    <tr>\n",
       "      <th>False</th>\n",
       "      <td>marital_status_desc</td>\n",
       "    </tr>\n",
       "    <tr>\n",
       "      <th>False</th>\n",
       "      <td>income_lower</td>\n",
       "    </tr>\n",
       "    <tr>\n",
       "      <th>False</th>\n",
       "      <td>income_upper</td>\n",
       "    </tr>\n",
       "    <tr>\n",
       "      <th>False</th>\n",
       "      <td>hh_size_desc</td>\n",
       "    </tr>\n",
       "    <tr>\n",
       "      <th>False</th>\n",
       "      <td>nbr_children_desc</td>\n",
       "    </tr>\n",
       "    <tr>\n",
       "      <th>False</th>\n",
       "      <td>ethnic_desc</td>\n",
       "    </tr>\n",
       "    <tr>\n",
       "      <th>False</th>\n",
       "      <td>PLUS_STATUS_BEFORE_REN</td>\n",
       "    </tr>\n",
       "    <tr>\n",
       "      <th>True</th>\n",
       "      <td>autorenew_ind</td>\n",
       "    </tr>\n",
       "    <tr>\n",
       "      <th>True</th>\n",
       "      <td>payroll_deduct_ind</td>\n",
       "    </tr>\n",
       "    <tr>\n",
       "      <th>True</th>\n",
       "      <td>days_dif</td>\n",
       "    </tr>\n",
       "    <tr>\n",
       "      <th>False</th>\n",
       "      <td>freq</td>\n",
       "    </tr>\n",
       "    <tr>\n",
       "      <th>False</th>\n",
       "      <td>sum.Cash (change)</td>\n",
       "    </tr>\n",
       "    <tr>\n",
       "      <th>True</th>\n",
       "      <td>sum.Debit Card</td>\n",
       "    </tr>\n",
       "    <tr>\n",
       "      <th>False</th>\n",
       "      <td>sum.Discover</td>\n",
       "    </tr>\n",
       "    <tr>\n",
       "      <th>True</th>\n",
       "      <td>sum.EBT Foodstamps</td>\n",
       "    </tr>\n",
       "    <tr>\n",
       "      <th>False</th>\n",
       "      <td>sum.Mastercard</td>\n",
       "    </tr>\n",
       "    <tr>\n",
       "      <th>False</th>\n",
       "      <td>sum.Shopping Card</td>\n",
       "    </tr>\n",
       "    <tr>\n",
       "      <th>False</th>\n",
       "      <td>sum.Visa</td>\n",
       "    </tr>\n",
       "    <tr>\n",
       "      <th>False</th>\n",
       "      <td>sum.American Express</td>\n",
       "    </tr>\n",
       "    <tr>\n",
       "      <th>False</th>\n",
       "      <td>sum.DOTCOM</td>\n",
       "    </tr>\n",
       "    <tr>\n",
       "      <th>False</th>\n",
       "      <td>sum.Sams Consumer Credit</td>\n",
       "    </tr>\n",
       "    <tr>\n",
       "      <th>False</th>\n",
       "      <td>sum.Wal-Mart Credit Card</td>\n",
       "    </tr>\n",
       "    <tr>\n",
       "      <th>False</th>\n",
       "      <td>sum.Associate Discount Card</td>\n",
       "    </tr>\n",
       "    <tr>\n",
       "      <th>False</th>\n",
       "      <td>sum.Electronic Check (ECA)</td>\n",
       "    </tr>\n",
       "    <tr>\n",
       "      <th>True</th>\n",
       "      <td>sum.Coupon</td>\n",
       "    </tr>\n",
       "    <tr>\n",
       "      <th>False</th>\n",
       "      <td>sum.Payroll Check</td>\n",
       "    </tr>\n",
       "    <tr>\n",
       "      <th>False</th>\n",
       "      <td>sum.Rx third party sales</td>\n",
       "    </tr>\n",
       "    <tr>\n",
       "      <th>False</th>\n",
       "      <td>sum.Sams Business Credit</td>\n",
       "    </tr>\n",
       "    <tr>\n",
       "      <th>False</th>\n",
       "      <td>sum.Service Income</td>\n",
       "    </tr>\n",
       "    <tr>\n",
       "      <th>False</th>\n",
       "      <td>sum.Unknown</td>\n",
       "    </tr>\n",
       "    <tr>\n",
       "      <th>False</th>\n",
       "      <td>sum.NA</td>\n",
       "    </tr>\n",
       "    <tr>\n",
       "      <th>False</th>\n",
       "      <td>sum.EBT Cash</td>\n",
       "    </tr>\n",
       "    <tr>\n",
       "      <th>False</th>\n",
       "      <td>sum.Check</td>\n",
       "    </tr>\n",
       "    <tr>\n",
       "      <th>False</th>\n",
       "      <td>sum.Sams Direct Credit</td>\n",
       "    </tr>\n",
       "    <tr>\n",
       "      <th>False</th>\n",
       "      <td>sum.Fleet</td>\n",
       "    </tr>\n",
       "    <tr>\n",
       "      <th>False</th>\n",
       "      <td>sum.Coin Voucher</td>\n",
       "    </tr>\n",
       "  </tbody>\n",
       "</table>\n",
       "</div>"
      ],
      "text/plain": [
       "                                 0\n",
       "True                         sales\n",
       "False                    num_visit\n",
       "True                      num_item\n",
       "False                 num_category\n",
       "False             num_sub_category\n",
       "False         MEMBERSHIP_TYPE_CODE\n",
       "False                MILES_TO_CLUB\n",
       "False                 hhh_age_desc\n",
       "False          marital_status_desc\n",
       "False                 income_lower\n",
       "False                 income_upper\n",
       "False                 hh_size_desc\n",
       "False            nbr_children_desc\n",
       "False                  ethnic_desc\n",
       "False       PLUS_STATUS_BEFORE_REN\n",
       "True                 autorenew_ind\n",
       "True            payroll_deduct_ind\n",
       "True                      days_dif\n",
       "False                         freq\n",
       "False            sum.Cash (change)\n",
       "True                sum.Debit Card\n",
       "False                 sum.Discover\n",
       "True            sum.EBT Foodstamps\n",
       "False               sum.Mastercard\n",
       "False            sum.Shopping Card\n",
       "False                     sum.Visa\n",
       "False         sum.American Express\n",
       "False                   sum.DOTCOM\n",
       "False     sum.Sams Consumer Credit\n",
       "False     sum.Wal-Mart Credit Card\n",
       "False  sum.Associate Discount Card\n",
       "False   sum.Electronic Check (ECA)\n",
       "True                    sum.Coupon\n",
       "False            sum.Payroll Check\n",
       "False     sum.Rx third party sales\n",
       "False     sum.Sams Business Credit\n",
       "False           sum.Service Income\n",
       "False                  sum.Unknown\n",
       "False                       sum.NA\n",
       "False                 sum.EBT Cash\n",
       "False                    sum.Check\n",
       "False       sum.Sams Direct Credit\n",
       "False                    sum.Fleet\n",
       "False             sum.Coin Voucher"
      ]
     },
     "execution_count": 13,
     "metadata": {},
     "output_type": "execute_result"
    }
   ],
   "source": [
    "optimized_columns= pd.DataFrame(columns,selector.support_)\n",
    "optimized_columns\n"
   ]
  },
  {
   "cell_type": "code",
   "execution_count": 14,
   "metadata": {
    "scrolled": true
   },
   "outputs": [
    {
     "name": "stdout",
     "output_type": "stream",
     "text": [
      "Accuracy is  77.18974444052729\n"
     ]
    }
   ],
   "source": [
    "from sklearn.metrics import accuracy_score\n",
    "y_pred = selector.predict(X_test)\n",
    "print (\"Accuracy is \", accuracy_score(y_test,y_pred)*100)"
   ]
  },
  {
   "cell_type": "markdown",
   "metadata": {},
   "source": [
    "## Finally we use the significant X variables to confirm the regression"
   ]
  },
  {
   "cell_type": "code",
   "execution_count": 1,
   "metadata": {},
   "outputs": [],
   "source": [
    "col=['sales','num_item','autorenew_ind','payroll_deduct_ind','days_dif','sum.Debit Card','sum.EBT Foodstamps','sum.Coupon' ]"
   ]
  },
  {
   "cell_type": "code",
   "execution_count": 3,
   "metadata": {},
   "outputs": [
    {
     "name": "stderr",
     "output_type": "stream",
     "text": [
      "/anaconda3/lib/python3.6/site-packages/sklearn/cross_validation.py:41: DeprecationWarning: This module was deprecated in version 0.18 in favor of the model_selection module into which all the refactored classes and functions are moved. Also note that the interface of the new CV iterators are different from that of this module. This module will be removed in 0.20.\n",
      "  \"This module will be removed in 0.20.\", DeprecationWarning)\n"
     ]
    }
   ],
   "source": [
    "import pandas as pd\n",
    "import matplotlib.pyplot as plt\n",
    "from sklearn.linear_model import LogisticRegression\n",
    "from sklearn.model_selection import cross_val_score\n",
    "from sklearn.preprocessing import minmax_scale\n",
    "from sklearn.feature_selection import RFECV\n",
    "from sklearn.cross_validation import train_test_split"
   ]
  },
  {
   "cell_type": "code",
   "execution_count": 4,
   "metadata": {},
   "outputs": [],
   "source": [
    "member = pd.read_csv('all_member01.csv')\n",
    "tender = pd.read_csv('member_join_tender.csv')\n",
    "td = tender.fillna(0)\n",
    "all = pd.merge(member, td, left_on = 'MEMBERSHIP_ID', right_on = 'MEMBERSHIP_ID', how = 'left')"
   ]
  },
  {
   "cell_type": "code",
   "execution_count": 5,
   "metadata": {},
   "outputs": [
    {
     "name": "stderr",
     "output_type": "stream",
     "text": [
      "/anaconda3/lib/python3.6/site-packages/ipykernel_launcher.py:3: SettingWithCopyWarning: \n",
      "A value is trying to be set on a copy of a slice from a DataFrame.\n",
      "Try using .loc[row_indexer,col_indexer] = value instead\n",
      "\n",
      "See the caveats in the documentation: http://pandas.pydata.org/pandas-docs/stable/indexing.html#indexing-view-versus-copy\n",
      "  This is separate from the ipykernel package so we can avoid doing imports until\n"
     ]
    },
    {
     "data": {
      "text/plain": [
       "LogisticRegression(C=1.0, class_weight=None, dual=False, fit_intercept=True,\n",
       "          intercept_scaling=1, max_iter=100, multi_class='ovr', n_jobs=1,\n",
       "          penalty='l2', random_state=None, solver='liblinear', tol=0.0001,\n",
       "          verbose=0, warm_start=False)"
      ]
     },
     "execution_count": 5,
     "metadata": {},
     "output_type": "execute_result"
    }
   ],
   "source": [
    "XX = all[col]\n",
    "YY = all['RENEW_IND']\n",
    "XX['days_dif']=XX['days_dif'].fillna(396)\n",
    "XX = XX.fillna(XX.mean())\n",
    "XX = minmax_scale(XX)\n",
    "XX_train, XX_test, yy_train, yy_test = train_test_split( XX, YY, test_size = 0.5, random_state = 100)\n",
    "lr_final= LogisticRegression()\n",
    "lr_final.fit(XX_train,yy_train)"
   ]
  },
  {
   "cell_type": "code",
   "execution_count": 6,
   "metadata": {},
   "outputs": [
    {
     "data": {
      "text/plain": [
       "array([[ 1.74374754, 11.550083  ,  5.21593252,  4.93031114, -2.45060914,\n",
       "         1.86699783, -6.78107846,  2.38825175]])"
      ]
     },
     "execution_count": 6,
     "metadata": {},
     "output_type": "execute_result"
    }
   ],
   "source": [
    "coefficients = lr_final.coef_\n",
    "coefficients"
   ]
  },
  {
   "cell_type": "code",
   "execution_count": 8,
   "metadata": {},
   "outputs": [
    {
     "data": {
      "image/png": "[encoded data removed]",
      "text/plain": [
       "<Figure size 432x288 with 1 Axes>"
      ]
     },
     "metadata": {},
     "output_type": "display_data"
    }
   ],
   "source": [
    "feature_importance_final = pd.Series(coefficients[0],index = all[col].columns)\n",
    "\n",
    "ordered_feature_importance_final = feature_importance_final.sort_values()\n",
    "ordered_feature_importance_final.plot.barh()\n",
    "plt.show()"
   ]
  },
  {
   "cell_type": "code",
   "execution_count": null,
   "metadata": {},
   "outputs": [],
   "source": []
  }
 ],
 "metadata": {
  "kernelspec": {
   "display_name": "Python 3",
   "language": "python",
   "name": "python3"
  },
  "language_info": {
   "codemirror_mode": {
    "name": "ipython",
    "version": 3
   },
   "file_extension": ".py",
   "mimetype": "text/x-python",
   "name": "python",
   "nbconvert_exporter": "python",
   "pygments_lexer": "ipython3",
   "version": "3.6.5"
  }
 },
 "nbformat": 4,
 "nbformat_minor": 2
}
